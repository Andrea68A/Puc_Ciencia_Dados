{
  "nbformat": 4,
  "nbformat_minor": 0,
  "metadata": {
    "colab": {
      "provenance": [],
      "include_colab_link": true
    },
    "kernelspec": {
      "name": "python3",
      "display_name": "Python 3"
    }
  },
  "cells": [
    {
      "cell_type": "markdown",
      "metadata": {
        "id": "view-in-github",
        "colab_type": "text"
      },
      "source": [
        "<a href=\"https://colab.research.google.com/github/Andrea68A/Puc_Ciencia_Dados/blob/main/C%C3%B3pia_de_implantacao_pickle.ipynb\" target=\"_parent\"><img src=\"https://colab.research.google.com/assets/colab-badge.svg\" alt=\"Open In Colab\"/></a>"
      ]
    },
    {
      "cell_type": "markdown",
      "metadata": {
        "id": "TKU4syAPPUxT"
      },
      "source": [
        "# Engenharia de Software para Ciência de Dados - PUC-Rio\n",
        "\n",
        "### Persistindo e Carregando Modelos Treinados com Pickle\n",
        "\n",
        "Marcos Kalinowski"
      ]
    },
    {
      "cell_type": "code",
      "source": [],
      "metadata": {
        "id": "MwG8xaodcpyR"
      },
      "execution_count": 5,
      "outputs": []
    },
    {
      "cell_type": "markdown",
      "metadata": {
        "id": "qa3eafljmpCz"
      },
      "source": [
        "## Pickle\n",
        "https://docs.python.org/2/library/pickle.html\n",
        "\n",
        "É a maneira padrão de serializar objetos em Python, sendo possível serializar modelos de aprendizado de máquina e salvar o formato serializado em um arquivo. Posteriormente, é possível pode carregar esse arquivo para desserializar o modelo e usá-lo para fazer novas previsões."
      ]
    },
    {
      "cell_type": "code",
      "source": [
        "import pandas as pd\n",
        "from sklearn import datasets\n",
        "from sklearn.linear_model import LogisticRegression\n",
        "from sklearn.model_selection import train_test_split\n",
        "from pickle import dump\n",
        "from pickle import load"
      ],
      "metadata": {
        "id": "Arvg9yJwEkHQ"
      },
      "execution_count": 6,
      "outputs": []
    },
    {
      "cell_type": "code",
      "metadata": {
        "id": "nT2KnwJaZcxR"
      },
      "source": [
        "# Carrega arquivo csv usando Pandas usando uma URL\n",
        "\n",
        "# Informa a URL de importação do dataset\n",
        "url = \"https://raw.githubusercontent.com/tatianaesc/datascience/main/diabetes.csv\"\n",
        "\n",
        "# Informa o cabeçalho das colunas\n",
        "colunas = ['preg', 'plas', 'pres', 'skin', 'test', 'mass', 'pedi', 'age', 'class']\n",
        "\n",
        "# Lê o arquivo utilizando as colunas informadas\n",
        "dataset = pd.read_csv(url, names=colunas, skiprows=1, delimiter=',')\n",
        "\n",
        "# Pega apenas os dados do dataset e guardando em um array\n",
        "array = dataset.values\n",
        "\n",
        "# Separa o array em variáveis preditoras (X) e variável target (Y)\n",
        "X = array[:,0:8]\n",
        "Y = array[:,8]"
      ],
      "execution_count": 7,
      "outputs": []
    },
    {
      "cell_type": "code",
      "source": [
        "# Divide os dados em treino e teste\n",
        "X_train, X_test, Y_train, Y_test = train_test_split(X, Y, test_size=0.33, random_state=7)\n",
        "\n",
        "# Cria o modelo\n",
        "modelo = LogisticRegression(solver='liblinear')\n",
        "\n",
        "# Treina o modelo\n",
        "modelo.fit(X_train, Y_train)\n",
        "\n",
        "# Avalia o modelo\n",
        "\n",
        "result = modelo.score(X_test, Y_test)\n",
        "print(\"Acurácia: %.3f%%\" % (result*100.0))\n",
        "\n",
        "\n"
      ],
      "metadata": {
        "colab": {
          "base_uri": "https://localhost:8080/"
        },
        "id": "ts6wsKUlFmZx",
        "outputId": "4e762dea-18fd-453f-83b7-d1729eaae5d7"
      },
      "execution_count": 12,
      "outputs": [
        {
          "output_type": "stream",
          "name": "stdout",
          "text": [
            "Acurácia: 75.591%\n"
          ]
        }
      ]
    },
    {
      "cell_type": "code",
      "metadata": {
        "id": "jtyMRxq1mpJm"
      },
      "source": [
        "# Salva o modelo no disco\n",
        "filename = 'model.pkl'\n",
        "dump(modelo, open(filename, 'wb'))"
      ],
      "execution_count": 9,
      "outputs": []
    },
    {
      "cell_type": "code",
      "source": [
        "# Algum tempo depois...\n",
        "# Carrega o modelo do disco\n",
        "loaded_model = load(open(filename, 'rb'))\n",
        "# Informa a acurácia do modelo\n",
        "result = loaded_model.score(X_test, Y_test)\n",
        "print(\"Acurácia: %.5f%%\" % (result*100.0))"
      ],
      "metadata": {
        "id": "T-lt9RrHF6qf",
        "outputId": "eb870a61-8b05-4a52-b0e8-54d7d0af7571",
        "colab": {
          "base_uri": "https://localhost:8080/"
        }
      },
      "execution_count": 16,
      "outputs": [
        {
          "output_type": "stream",
          "name": "stdout",
          "text": [
            "Acurácia: 75.59055%\n"
          ]
        }
      ]
    },
    {
      "cell_type": "code",
      "source": [
        "# Salvando o modelo treinado em um arquivo\n",
        "import pickle\n",
        "pickle_out = open('classifier.pkl', 'wb')\n",
        "pickle.dump(modelo, pickle_out)\n",
        "pickle_out.close()"
      ],
      "metadata": {
        "id": "Zm7bE9uabfeP"
      },
      "execution_count": 17,
      "outputs": []
    },
    {
      "cell_type": "code",
      "source": [
        "# usando a inferência de um modelo a partir de um arquivo\n",
        "import pickle\n",
        "# carregando o modelo treinado\n",
        "pickle_in = open('classifier.pkl', 'rb')\n",
        "# classifier = pickle.load(pickle_in)\n",
        "modelo = pickle.load(open('classifier.pkl', 'rb'))\n",
        "pickle_in.close()\n",
        "\n",
        "# Utilizando o modelo para fazer uma predição\n",
        "predicao = modelo.predict([[5, 166, 72, 19, 175, 25.8, 0.587, 51]])\n",
        "prediction2 = modelo.predict([[6, 148, 72, 35, 0, 33.6, 0.627, 50]])\n",
        "predict3 = modelo.predict([[1, 85, 66, 29, 0, 26.6, 0.351, 31]])\n",
        "print(predicao)\n",
        "print(prediction2)\n",
        "print(predict3)"
      ],
      "metadata": {
        "colab": {
          "base_uri": "https://localhost:8080/"
        },
        "id": "nbP1iC5JcNoL",
        "outputId": "bb794e28-ccb9-4af1-abf0-37ad51efdce7"
      },
      "execution_count": 21,
      "outputs": [
        {
          "output_type": "stream",
          "name": "stdout",
          "text": [
            "[1.]\n",
            "[1.]\n",
            "[0.]\n"
          ]
        }
      ]
    }
  ]
}